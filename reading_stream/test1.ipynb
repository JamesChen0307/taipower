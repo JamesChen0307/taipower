{
 "cells": [
  {
   "cell_type": "code",
   "execution_count": 4,
   "metadata": {},
   "outputs": [
    {
     "name": "stdout",
     "output_type": "stream",
     "text": [
      "87817555-3396-56c3-85ed-0de90e5b4827\n"
     ]
    }
   ],
   "source": [
    "import uuid\n",
    "\n",
    "def generate_uuid_from_string(input_string):\n",
    "    namespace = uuid.NAMESPACE_DNS  # 選擇名稱空間\n",
    "    return str(uuid.uuid5(namespace, input_string))\n",
    "\n",
    "# 將指定的字串轉換為 UUID\n",
    "uuid_value = generate_uuid_from_string(\"WT12345678_1111111111\")\n",
    "print(uuid_value)"
   ]
  },
  {
   "cell_type": "code",
   "execution_count": 8,
   "metadata": {},
   "outputs": [
    {
     "name": "stdout",
     "output_type": "stream",
     "text": [
      "<class 'str'>\n",
      "<class 'str'>\n"
     ]
    }
   ],
   "source": [
    "from datetime import datetime\n",
    "\n",
    "start_time = datetime.now()\n",
    "log_start_time = start_time.strftime(\"%Y-%m-%d %H:%M:%S\")\n",
    "\n",
    "print(type(log_start_time))\n",
    "print(type(str(datetime.now())[0:19]))\n"
   ]
  }
 ],
 "metadata": {
  "kernelspec": {
   "display_name": "Python 3",
   "language": "python",
   "name": "python3"
  },
  "language_info": {
   "codemirror_mode": {
    "name": "ipython",
    "version": 3
   },
   "file_extension": ".py",
   "mimetype": "text/x-python",
   "name": "python",
   "nbconvert_exporter": "python",
   "pygments_lexer": "ipython3",
   "version": "3.10.5"
  },
  "orig_nbformat": 4
 },
 "nbformat": 4,
 "nbformat_minor": 2
}
