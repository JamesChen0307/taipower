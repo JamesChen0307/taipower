{
 "cells": [
  {
   "cell_type": "code",
   "execution_count": 2,
   "metadata": {},
   "outputs": [],
   "source": [
    "from pydantic import (\n",
    "    BaseModel,\n",
    "    NegativeInt,\n",
    "    PositiveInt,\n",
    "    conint,\n",
    "    conlist,\n",
    "    constr,\n",
    "    ValidationError,\n",
    "    Field,\n",
    "    condecimal,\n",
    "    validator,\n",
    "    root_validator,\n",
    ")\n",
    "from typing import Optional\n",
    "from decimal import Decimal\n",
    "from datetime import datetime\n",
    "from ami import constant, func, lp_config"
   ]
  },
  {
   "cell_type": "code",
   "execution_count": 3,
   "metadata": {},
   "outputs": [],
   "source": [
    "class header_map(BaseModel):\n",
    "    rec_no: int\n",
    "    version: int\n",
    "    read: int\n",
    "    kwh: condecimal(max_digits=14, decimal_places=4)\n",
    "    time: int\n",
    "\n",
    "    @validator(\"rec_no\", \"version\", \"read\")\n",
    "    def neg_num(cls, v):\n",
    "        if v < 0:\n",
    "            raise ValueError(\"W20006\")  # 小於0\n",
    "        \n",
    "    @validator(\"time\")\n",
    "    def int_db_limit(cls, v):\n",
    "        if v > 2147483647:\n",
    "            raise ValueError(\"W20006\")\n",
    "\n",
    "    @validator(\"rec_no\")\n",
    "    def rt_count_zero(cls, v):\n",
    "        if v == 0:\n",
    "            raise ValueError(\"W23001\")\n"
   ]
  },
  {
   "cell_type": "code",
   "execution_count": 4,
   "metadata": {},
   "outputs": [
    {
     "name": "stdout",
     "output_type": "stream",
     "text": [
      "file_type=None raw_gzfile=None raw_file=None rec_time=None file_path=None file_seqno=None source=None read_group=None meter_id=None read_time=None type_cd='ensure that there are no more than 14 digits in total' col_nm='kwh' rt_count=None log_data_time='2023-06-08 15:44:19'\n",
      "file_type=None raw_gzfile=None raw_file=None rec_time=None file_path=None file_seqno=None source=None read_group=None meter_id=None read_time=None type_cd='W20006' col_nm='time' rt_count=None log_data_time='2023-06-08 15:44:19'\n",
      "{'rec_no': 0, 'version': 123, 'read': 2023, 'kwh': 123456789012345, 'time': 2147483648}\n"
     ]
    }
   ],
   "source": [
    "try:\n",
    "    L = {\"rec_no\": 0, \"version\": 123, \"read\": 2023, \"kwh\": 123456789012345, \"time\": 2147483648}\n",
    "    header_map(**L)\n",
    "\n",
    "except ValidationError as e:\n",
    "    for v in e.errors():\n",
    "        # print(e.errors())\n",
    "        try:\n",
    "            type_cd = constant.warn_cd[v[\"type\"]][\"code\"]\n",
    "            print(type_cd)\n",
    "            column = v[\"loc\"][0]\n",
    "            o_val = L[column]\n",
    "            new_val = constant.warn_cd[v[\"type\"]][\"func\"](o_val)\n",
    "        except Exception:\n",
    "            type_cd = v[\"msg\"]\n",
    "            column = v[\"loc\"][0]\n",
    "            o_val = L[column]\n",
    "            try:\n",
    "                # 格式修訂\n",
    "                new_val = constant.warn_cd[v[\"msg\"]][\"func\"](o_val)\n",
    "                L[column] = new_val\n",
    "            except Exception:\n",
    "                warn_log = lp_config.WarnLog(\n",
    "                    type_cd=type_cd,\n",
    "                    col_nm=column,\n",
    "                    log_data_time=datetime.now().strftime(\"%Y-%m-%d %H:%M:%S\"),\n",
    "                )\n",
    "\n",
    "            warn_log = lp_config.WarnLog(\n",
    "                type_cd=type_cd,\n",
    "                col_nm=column,\n",
    "                log_data_time=datetime.now().strftime(\"%Y-%m-%d %H:%M:%S\")\n",
    "            )\n",
    "        print(warn_log)\n",
    "    print(L)\n"
   ]
  },
  {
   "cell_type": "code",
   "execution_count": 14,
   "metadata": {},
   "outputs": [
    {
     "name": "stdout",
     "output_type": "stream",
     "text": [
      "1234\n"
     ]
    },
    {
     "data": {
      "text/plain": [
       "456.1234"
      ]
     },
     "execution_count": 14,
     "metadata": {},
     "output_type": "execute_result"
    }
   ],
   "source": [
    "import math\n",
    "\n",
    "def truncate_decimal(input_value):\n",
    "    int_part = int(input_value)\n",
    "    int_len = len(str(int_part))\n",
    "    int_fix = str(int_part)[-5:]\n",
    "\n",
    "    dec_len = len(str(input_value)[int_len+1:])\n",
    "    dec_fix = str(input_value)[int_len+1:][:4]\n",
    "    print(dec_fix)\n",
    "    input_fix = float(int_fix+'.'+dec_fix)\n",
    "\n",
    "    if int_len > 5 or dec_len > 4:\n",
    "        return input_fix\n",
    "    else:\n",
    "        return input_value\n",
    "\n",
    "truncate_decimal(456.1234546546)\n"
   ]
  },
  {
   "cell_type": "code",
   "execution_count": 25,
   "metadata": {},
   "outputs": [
    {
     "name": "stdout",
     "output_type": "stream",
     "text": [
      "1668726000\n"
     ]
    }
   ],
   "source": [
    "from datetime import datetime\n",
    "\n",
    "date_str = \"2022-11-18 07:00:00\"\n",
    "timestamp = int(datetime.strptime(date_str, \"%Y-%m-%d %H:%M:%S\").timestamp())\n",
    "\n",
    "print(timestamp)\n"
   ]
  },
  {
   "cell_type": "code",
   "execution_count": 30,
   "metadata": {},
   "outputs": [
    {
     "name": "stdout",
     "output_type": "stream",
     "text": [
      "00e7c09e-9fee-5c52-b62a-c60330b52452\n"
     ]
    }
   ],
   "source": [
    "import uuid\n",
    "\n",
    "def generate_uuid_from_string(input_string):\n",
    "    namespace = uuid.NAMESPACE_DNS  # 選擇名稱空間\n",
    "    return str(uuid.uuid5(namespace, input_string))\n",
    "\n",
    "# 將指定的字串轉換為 UUID\n",
    "uuid_value = generate_uuid_from_string(\"WT20069447_1111111111\")\n",
    "print(uuid_value)\n"
   ]
  },
  {
   "cell_type": "code",
   "execution_count": 62,
   "metadata": {},
   "outputs": [
    {
     "name": "stdout",
     "output_type": "stream",
     "text": [
      "{None: ['FAN_ID', 'SOURCE', 'CUST_ID', 'METER_ID', 'READ_TIME', 'REC_NO', 'DEL_KWH', 'REC_KWH', 'DEL_KVARH_LAG', 'DEL_KVARH_LEAD', 'REC_KVARH_LAG', 'REC_KVARH_LEAD', 'INTERVAL', 'NOTE']}\n"
     ]
    }
   ],
   "source": [
    "import csv\n",
    "\n",
    "csv_string = '''\n",
    "FAN_ID,SOURCE,CUST_ID,METER_ID,READ_TIME,REC_NO,DEL_KWH,REC_KWH,DEL_KVARH_LAG,DEL_KVARH_LEAD,REC_KVARH_LAG,REC_KVARH_LEAD,INTERVAL,NOTE\n",
    ",HES-TMAP20210525,08093497036,WB15001459,2022-03-01T00:15:00,,0.0006,0,0.0020,0,0,0,1,1\n",
    ",HES-TMAP20210525,08093497036,WB15001459,2022-03-01T00:30:00,,0.0006,0,0.0019,0,0,0,1,1\n",
    ",HES-TMAP20210525,08093497036,WB15001459,2022-03-01T00:45:00,,0.0006,0,0.0020,0,0,0,1,1\n",
    ",HES-TMAP20210525,08093497036,WB15001459,2022-03-01T01:00:00,,0.0007,0,0.0019,0,0,0,1,1\n",
    ",HES-TMAP20210525,08093497036,WB15001459,2022-03-01T01:15:00,,0.0006,0,0.0020,0,0,0,1,1\n",
    "'''\n",
    "\n",
    "reader = csv.DictReader(csv_string.splitlines())\n",
    "data_list = list(reader)\n",
    "\n",
    "# 將每個字典的值轉為空字串（如果值為 None，則轉換為空字串）\n",
    "data_dict = {k: \"\" if v is None else v for k, v in data_list[0].items()}\n",
    "\n",
    "print(data_dict)\n"
   ]
  },
  {
   "cell_type": "code",
   "execution_count": 41,
   "metadata": {},
   "outputs": [
    {
     "name": "stdout",
     "output_type": "stream",
     "text": [
      "5\n",
      "{'FAN_ID': '', 'SOURCE': 'HES-TMAP20210525', 'CUST_ID': '08093497036', 'METER_ID': 'WB15001459', 'READ_TIME': '2022-03-01T00:15:00', 'REC_NO': '', 'DEL_KWH': '0.0006', 'REC_KWH': '0', 'DEL_KVARH_LAG': '0.0020', 'DEL_KVARH_LEAD': '0', 'REC_KVARH_LAG': '0', 'REC_KVARH_LEAD': '0', 'INTERVAL': '1', 'NOTE': None}\n",
      "{'FAN_ID': '', 'SOURCE': 'HES-TMAP20210525', 'CUST_ID': '08093497036', 'METER_ID': 'WB15001459', 'READ_TIME': '2022-03-01T00:30:00', 'REC_NO': '', 'DEL_KWH': '0.0006', 'REC_KWH': '0', 'DEL_KVARH_LAG': '0.0019', 'DEL_KVARH_LEAD': '0', 'REC_KVARH_LAG': '0', 'REC_KVARH_LEAD': '0', 'INTERVAL': None, 'NOTE': None}\n",
      "{'FAN_ID': '', 'SOURCE': 'HES-TMAP20210525', 'CUST_ID': '08093497036', 'METER_ID': 'WB15001459', 'READ_TIME': '2022-03-01T00:45:00', 'REC_NO': '', 'DEL_KWH': '0.0006', 'REC_KWH': '0', 'DEL_KVARH_LAG': '0', 'DEL_KVARH_LEAD': '0', 'REC_KVARH_LAG': '0', 'REC_KVARH_LEAD': '1', 'INTERVAL': '1', 'NOTE': None}\n",
      "{'FAN_ID': '', 'SOURCE': 'HES-TMAP20210525', 'CUST_ID': '08093497036', 'METER_ID': 'WB15001459', 'READ_TIME': '2022-03-01T01:00:00', 'REC_NO': '', 'DEL_KWH': '0.0007', 'REC_KWH': '0', 'DEL_KVARH_LAG': '0.0019', 'DEL_KVARH_LEAD': '0', 'REC_KVARH_LAG': '0', 'REC_KVARH_LEAD': '0', 'INTERVAL': '1', 'NOTE': '1'}\n",
      "{'FAN_ID': '', 'SOURCE': 'HES-TMAP20210525', 'CUST_ID': '08093497036', 'METER_ID': 'WB15001459', 'READ_TIME': '2022-03-01T01:15:00', 'REC_NO': '', 'DEL_KWH': '0.0006', 'REC_KWH': '0', 'DEL_KVARH_LAG': '0.0020', 'DEL_KVARH_LEAD': '0', 'REC_KVARH_LAG': '0', 'REC_KVARH_LEAD': '0', 'INTERVAL': '1', 'NOTE': '1'}\n"
     ]
    }
   ],
   "source": [
    "import csv\n",
    "from io import StringIO\n",
    "import itertools\n",
    "\n",
    "csv_string = '''\n",
    "FAN_ID,SOURCE,CUST_ID,METER_ID,READ_TIME,REC_NO,DEL_KWH,REC_KWH,DEL_KVARH_LAG,DEL_KVARH_LEAD,REC_KVARH_LAG,REC_KVARH_LEAD,INTERVAL,NOTE\n",
    ",HES-TMAP20210525,08093497036,WB15001459,2022-03-01T00:15:00,,0.0006,0,0.0020,0,0,0,1\n",
    ",HES-TMAP20210525,08093497036,WB15001459,2022-03-01T00:30:00,,0.0006,0,0.0019,0,0,0\n",
    ",HES-TMAP20210525,08093497036,WB15001459,2022-03-01T00:45:00,,0.0006,0,0,0,0,1,1\n",
    ",HES-TMAP20210525,08093497036,WB15001459,2022-03-01T01:00:00,,0.0007,0,0.0019,0,0,0,1,1\n",
    ",HES-TMAP20210525,08093497036,WB15001459,2022-03-01T01:15:00,,0.0006,0,0.0020,0,0,0,1,1\n",
    "'''.strip() # 加上 .strip() 去除起始和結束的換行字符\n",
    "\n",
    "\n",
    "\n",
    "expected_fields = [\"FAN_ID\",\"SOURCE\",\"CUST_ID\",\"METER_ID\",\"READ_TIME\",\"REC_NO\",\"DEL_KWH\",\"REC_KWH\",\"DEL_KVARH_LAG\",\"DEL_KVARH_LEAD\",\"REC_KVARH_LAG\",\"REC_KVARH_LEAD\",\"INTERVAL\",\"NOTE\"]\n",
    "\n",
    "f = StringIO(csv_string)\n",
    "\n",
    "header_reader = csv.reader(f)\n",
    "\n",
    "\n",
    "# row = next(header_reader)\n",
    "# for row in header_reader:\n",
    "#     print(len(row)==len(expected_fields))  \n",
    "\n",
    "# # 檢查欄位是否一致\n",
    "# if row == expected_fields:\n",
    "#     print(\"欄位一致\")\n",
    "# else:\n",
    "#     print(\"欄位不一致\")\n",
    "\n",
    "f.seek(0)  # 將檔案指標歸零\n",
    "\n",
    "reader = csv.DictReader(f)\n",
    "data_list = list(reader)\n",
    "# print(data_list)\n",
    "\n",
    "def check_dict_for_none_values(data):\n",
    "    return any(value is None for value in data.values())\n",
    "\n",
    "print(len(data_list))\n",
    "for i, dict in enumerate(data_list):\n",
    "    # if any(value is None for value in dict.values()):\n",
    "    print(dict)\n"
   ]
  },
  {
   "cell_type": "code",
   "execution_count": 10,
   "metadata": {},
   "outputs": [
    {
     "name": "stdout",
     "output_type": "stream",
     "text": [
      "6\n",
      "3\n"
     ]
    }
   ],
   "source": [
    "def count_filled_fields(data):\n",
    "    fields_to_check = ['DEL_KWH', 'REC_KWH', 'DEL_KVARH_LAG', 'DEL_KVARH_LEAD', 'REC_KVARH_LAG', 'REC_KVARH_LEAD']\n",
    "    return sum(1 for field in fields_to_check if field in data and data[field])\n",
    "\n",
    "\n",
    "data = {\n",
    "    'DEL_KWH': 123,\n",
    "    'DEL_KVARH_LAG': 456,\n",
    "    'DEL_KVARH_LEAD': 789,\n",
    "    'OTHER_FIELD': 'abc',\n",
    "    'test': 1,\n",
    "    \"try\": 2\n",
    "\n",
    "}\n",
    "\n",
    "print(len(data))\n",
    "\n",
    "result = count_filled_fields(data)\n",
    "print(result)  # 輸出 2\n",
    "\n"
   ]
  },
  {
   "cell_type": "code",
   "execution_count": 21,
   "metadata": {},
   "outputs": [
    {
     "name": "stdout",
     "output_type": "stream",
     "text": [
      "True\n",
      "False\n"
     ]
    }
   ],
   "source": [
    "def check_dict_for_none_values(data):\n",
    "    return any(value is None for value in data.values())\n",
    "\n",
    "data1 = {'a': 1, 'b': 2, 'c': None}\n",
    "result1 = check_dict_for_none_values(data1)\n",
    "print(result1)  # 輸出 True\n",
    "\n",
    "data2 = {'x': 'abc', 'y': 123, 'z': 'xyz'}\n",
    "result2 = check_dict_for_none_values(data2)\n",
    "print(result2)  # 輸出 False\n"
   ]
  },
  {
   "cell_type": "code",
   "execution_count": 39,
   "metadata": {},
   "outputs": [
    {
     "name": "stdout",
     "output_type": "stream",
     "text": [
      "{'key1': 'value1', 'key2': 'value2', 'key3': 'value3'}\n",
      "3\n"
     ]
    }
   ],
   "source": [
    "dict1 = {\"key1\": \"value1\", \"key2\": \"value2\"}\n",
    "dict2 = {\"key2\": \"new_value\", \"key3\": \"value3\"}\n",
    "dict1[\"key3\"] = \"value3\"\n",
    "\n",
    "# dict1.update(dict2)\n",
    "print(dict1)\n",
    "\n",
    "print(hash(\"WT20069447\")%4)"
   ]
  },
  {
   "cell_type": "code",
   "execution_count": 38,
   "metadata": {},
   "outputs": [
    {
     "name": "stdout",
     "output_type": "stream",
     "text": [
      "20230526 17:02:35\n"
     ]
    },
    {
     "ename": "TypeError",
     "evalue": "'str' object is not callable",
     "output_type": "error",
     "traceback": [
      "\u001b[1;31m---------------------------------------------------------------------------\u001b[0m",
      "\u001b[1;31mTypeError\u001b[0m                                 Traceback (most recent call last)",
      "Cell \u001b[1;32mIn[38], line 7\u001b[0m\n\u001b[0;32m      4\u001b[0m log_start_time \u001b[39m=\u001b[39m start_time\u001b[39m.\u001b[39mstrftime(\u001b[39m\"\u001b[39m\u001b[39m%\u001b[39m\u001b[39mY\u001b[39m\u001b[39m%\u001b[39m\u001b[39mm\u001b[39m\u001b[39m%d\u001b[39;00m\u001b[39m \u001b[39m\u001b[39m%\u001b[39m\u001b[39mH:\u001b[39m\u001b[39m%\u001b[39m\u001b[39mM:\u001b[39m\u001b[39m%\u001b[39m\u001b[39mS\u001b[39m\u001b[39m\"\u001b[39m)\n\u001b[0;32m      6\u001b[0m \u001b[39mprint\u001b[39m(log_start_time)\n\u001b[1;32m----> 7\u001b[0m \u001b[39mprint\u001b[39m(\u001b[39mstr\u001b[39;49m(datetime\u001b[39m.\u001b[39;49mnow())[\u001b[39m0\u001b[39m:\u001b[39m19\u001b[39m])\n",
      "\u001b[1;31mTypeError\u001b[0m: 'str' object is not callable"
     ]
    }
   ],
   "source": []
  }
 ],
 "metadata": {
  "kernelspec": {
   "display_name": "Python 3",
   "language": "python",
   "name": "python3"
  },
  "language_info": {
   "codemirror_mode": {
    "name": "ipython",
    "version": 3
   },
   "file_extension": ".py",
   "mimetype": "text/x-python",
   "name": "python",
   "nbconvert_exporter": "python",
   "pygments_lexer": "ipython3",
   "version": "3.10.5"
  },
  "orig_nbformat": 4
 },
 "nbformat": 4,
 "nbformat_minor": 2
}
