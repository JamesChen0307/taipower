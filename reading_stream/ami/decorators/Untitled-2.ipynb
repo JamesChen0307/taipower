{
 "cells": [
  {
   "cell_type": "code",
   "execution_count": 4,
   "metadata": {},
   "outputs": [
    {
     "name": "stdout",
     "output_type": "stream",
     "text": [
      "[(4, 1), (2, 1), (6, 1), (10, 1), (8, 1)]\n"
     ]
    }
   ],
   "source": [
    "import time\n",
    "from functools import wraps\n",
    "from queue import Queue\n",
    "from threading import Thread\n",
    "from typing import List\n",
    "\n",
    "class ThreadMaker(Thread):\n",
    "    def __init__(self, thread_name: str, task_queue: Queue, callback, result_queue, args=(), kwargs={}):\n",
    "        super(ThreadMaker, self).__init__(name=thread_name)\n",
    "        self.task_queue = task_queue\n",
    "        self.callback = callback\n",
    "        self.result_queue = result_queue\n",
    "        self.args = args\n",
    "        self.kwargs = kwargs\n",
    "\n",
    "    def run(self):\n",
    "        while not self.task_queue.empty():\n",
    "            task = self.task_queue.get()\n",
    "            result = self.callback(task, *self.args, **self.kwargs)\n",
    "            self.result_queue.put(result)\n",
    "\n",
    "\n",
    "class ThreadWorker:\n",
    "    def __init__(self, tasks: List = [], thread_count: int = 1, args=(), kwargs={}):\n",
    "        self.tasks = tasks\n",
    "        self.thread_count = thread_count\n",
    "        self.args = args\n",
    "        self.kwargs = kwargs\n",
    "        self.task_queue = Queue()\n",
    "        self.result_queue = Queue()\n",
    "        for task in tasks:\n",
    "            self.task_queue.put(task)\n",
    "\n",
    "    def __call__(self, func):\n",
    "        @wraps(func)\n",
    "        def wrapper(*args, **kwargs):\n",
    "            threads = []\n",
    "            for i in range(self.thread_count):\n",
    "                t = ThreadMaker(\n",
    "                    f\"ThreadMaker-{i}\",\n",
    "                    self.task_queue,\n",
    "                    func,\n",
    "                    self.result_queue,\n",
    "                    args=self.args,\n",
    "                    kwargs=self.kwargs,\n",
    "                )\n",
    "                threads.append(t)\n",
    "                t.start()\n",
    "\n",
    "            for t in threads:\n",
    "                t.join()\n",
    "\n",
    "            results = []\n",
    "            while not self.result_queue.empty():\n",
    "                result = self.result_queue.get()\n",
    "                results.append(result)\n",
    "\n",
    "            return results\n",
    "\n",
    "        return wrapper\n",
    "\n",
    "\n",
    "# 示例使用\n",
    "@ThreadWorker(tasks=[1, 2, 3, 4, 5], thread_count=3)\n",
    "def process_task(task):\n",
    "    # 模拟耗时任务\n",
    "    time.sleep(1)\n",
    "    return task * 2 , 1\n",
    "\n",
    "if __name__ == \"__main__\":\n",
    "    # 调用多线程处理任务\n",
    "    results = process_task()\n",
    "\n",
    "    # 输出结果\n",
    "    print(results)\n"
   ]
  },
  {
   "cell_type": "code",
   "execution_count": 3,
   "metadata": {},
   "outputs": [
    {
     "ename": "TypeError",
     "evalue": "'Queue' object is not iterable",
     "output_type": "error",
     "traceback": [
      "\u001b[1;31m---------------------------------------------------------------------------\u001b[0m",
      "\u001b[1;31mTypeError\u001b[0m                                 Traceback (most recent call last)",
      "Cell \u001b[1;32mIn[3], line 6\u001b[0m\n\u001b[0;32m      3\u001b[0m q\u001b[39m.\u001b[39mput(\u001b[39m2\u001b[39m)\n\u001b[0;32m      5\u001b[0m bb \u001b[39m=\u001b[39m []\n\u001b[1;32m----> 6\u001b[0m \u001b[39mfor\u001b[39;00m a \u001b[39min\u001b[39;00m q:\n\u001b[0;32m      7\u001b[0m     bb\u001b[39m.\u001b[39mappend(a)\n\u001b[0;32m      9\u001b[0m bb\n",
      "\u001b[1;31mTypeError\u001b[0m: 'Queue' object is not iterable"
     ]
    }
   ],
   "source": [
    "q = Queue()\n",
    "q.put(1)\n",
    "q.put(2)\n",
    "\n",
    "bb = []\n",
    "for a in q:\n",
    "    bb.append(a)\n",
    "\n",
    "bb"
   ]
  }
 ],
 "metadata": {
  "kernelspec": {
   "display_name": "Python 3",
   "language": "python",
   "name": "python3"
  },
  "language_info": {
   "codemirror_mode": {
    "name": "ipython",
    "version": 3
   },
   "file_extension": ".py",
   "mimetype": "text/x-python",
   "name": "python",
   "nbconvert_exporter": "python",
   "pygments_lexer": "ipython3",
   "version": "3.10.5"
  },
  "orig_nbformat": 4
 },
 "nbformat": 4,
 "nbformat_minor": 2
}
